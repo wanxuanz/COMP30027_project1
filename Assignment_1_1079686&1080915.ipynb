{
 "cells": [
  {
   "cell_type": "markdown",
   "metadata": {},
   "source": [
    "The University of Melbourne, School of Computing and Information Systems\n",
    "\n",
    "# COMP30027 Machine Learning, 2021 Semester 1\n",
    "\n",
    "## Assignment 1: Pose classification with naive Bayes\n"
   ]
  },
  {
   "cell_type": "markdown",
   "metadata": {},
   "source": [
    "**Student ID(s):**     1079686\n",
    "                       1080915\n"
   ]
  },
  {
   "cell_type": "code",
   "execution_count": 124,
   "metadata": {},
   "outputs": [],
   "source": [
    "# import required libraries\n",
    "import numpy as np\n",
    "import pandas as pd\n",
    "from scipy.stats import norm"
   ]
  },
  {
   "cell_type": "code",
   "execution_count": 125,
   "metadata": {},
   "outputs": [],
   "source": [
    "# function that read in and clean the data for it to be used for later training and testing\n",
    "def preprocess(filename):\n",
    "    # read in the file\n",
    "    data = pd.read_csv(filename, header = None)\n",
    "    \n",
    "    # delete the rows that with all freatures unkonwn \n",
    "    data = data[data.iloc[:, 1:].mean(axis=1)!=9999]\n",
    "    \n",
    "    #replace the unknown value with NaN\n",
    "    clean_data = data.replace(9999, np.nan)\n",
    "    return clean_data"
   ]
  },
  {
   "cell_type": "code",
   "execution_count": 126,
   "metadata": {},
   "outputs": [],
   "source": [
    "# This function calculate prior probabilities and likelihoods from the training data and using them to build a naive Bayes model\n",
    "def train(train_set):\n",
    "    # get the prior for each labels\n",
    "    prior = train_set[0].value_counts() / len(train_set)\n",
    "    labels = list(prior.keys())\n",
    "    \n",
    "    # calculate the mean and std of each class\n",
    "    mean = {}\n",
    "    std = {}\n",
    "    for label in labels:\n",
    "        mean[label] = list(train_set[train_set[0] == label].describe().loc['mean'])\n",
    "        std[label] = list(train_set[train_set[0] == label].describe().loc['std'])\n",
    "    \n",
    "    # put the prior, mean and std of each class into a model\n",
    "    model = {}\n",
    "    for label in labels:\n",
    "        model[label] = {'prior':prior[label], 'mean':mean[label], 'std':std[label]}\n",
    "    return model"
   ]
  },
  {
   "cell_type": "code",
   "execution_count": 127,
   "metadata": {},
   "outputs": [],
   "source": [
    "# function tha calculate the pdf of log gaussian distribution\n",
    "def gaussian(x, mu, sigma):\n",
    "    # if a data is Nan, let its density be a really small number instead of 0 to avoid potential errors\n",
    "    if (np.isnan(x)):\n",
    "        pdf  = 0.0\n",
    "    else: \n",
    "        pdf = -(x-mu)**2 / (2*sigma**2) - np.log(np.sqrt(2*np.pi*sigma**2))\n",
    "    return pdf"
   ]
  },
  {
   "cell_type": "code",
   "execution_count": 128,
   "metadata": {},
   "outputs": [],
   "source": [
    "# This function predicts classes for new items in a test dataset\n",
    "def predict(test, model):\n",
    "    predict_labels = []\n",
    "    labels = list(model.keys())\n",
    "    \n",
    "    # iterate every instance of the test dataset\n",
    "    for j,row in test.iterrows():        \n",
    "        instance = row[1:]\n",
    "        scores = []\n",
    "        \n",
    "        # Add the log prior value to each class's predicted score\n",
    "        for label in labels:\n",
    "            score = np.log(model[label]['prior'])\n",
    "            \n",
    "            # Add the prior value with each cell's predicted log gaussian density\n",
    "            for i, x in enumerate(instance):\n",
    "                score += gaussian(x, model[label]['mean'][i], model[label]['std'][i])\n",
    "            scores.append(score)\n",
    "            \n",
    "        predict_labels.append(labels[np.argmax(scores)])\n",
    "        \n",
    "    # return the class of max score for each instance \n",
    "    return predict_labels"
   ]
  },
  {
   "cell_type": "code",
   "execution_count": 129,
   "metadata": {},
   "outputs": [],
   "source": [
    "# This function evaluate the prediction performance by comparing the model’s class outputs to ground truth labels\n",
    "def evaluate(test, model):\n",
    "    true_num = 0\n",
    "    predict_labels = predict(test, model)\n",
    "    \n",
    "    # compare the predicted label with the true labels\n",
    "    for i, prediction in enumerate(predict_labels):\n",
    "        true_labels = test.iloc[i, 0]\n",
    "        if true_labels == predict_labels[i]:\n",
    "            true_num += 1\n",
    "            \n",
    "    return true_num / len(predict_labels) "
   ]
  },
  {
   "cell_type": "code",
   "execution_count": 130,
   "metadata": {},
   "outputs": [
    {
     "name": "stdout",
     "output_type": "stream",
     "text": [
      "0.75\n",
      "0.755464480874317\n"
     ]
    }
   ],
   "source": [
    "# implement the functions on train.csv and test.csv\n",
    "train_set = preprocess('train.csv')\n",
    "test = preprocess('test.csv')\n",
    "\n",
    "model = train(train_set)\n",
    "accuracy_test = evaluate(test, model)\n",
    "accuracy_train = evaluate(train_set, model)\n",
    "print(accuracy_test)\n",
    "print(accuracy_train)"
   ]
  },
  {
   "cell_type": "code",
   "execution_count": 131,
   "metadata": {},
   "outputs": [],
   "source": [
    "# export the predicted result to a csv file\n",
    "prediction = pd.DataFrame(predict(test, model))\n",
    "prediction.to_csv('result.csv', index=False, header = False)"
   ]
  },
  {
   "cell_type": "markdown",
   "metadata": {},
   "source": [
    "## Questions \n",
    "\n",
    "\n",
    "If you are in a group of 1, you will respond to **two** questions of your choosing.\n",
    "\n",
    "If you are in a group of 2, you will respond to **four** questions of your choosing.\n",
    "\n",
    "A response to a question should take about 100–250 words, and make reference to the data wherever possible.\n",
    "\n",
    "#### NOTE: you may develope codes or functions to help respond to the question here, but your formal answer should be submitted separately as a PDF."
   ]
  },
  {
   "cell_type": "markdown",
   "metadata": {},
   "source": [
    "### Q1\n",
    "Since this is a multiclass classification problem, there are multiple ways to compute precision, recall, and F-score for this classifier. Implement at least two of the methods from the \"Model Evaluation\" lecture and discuss any differences between them. (The implementation should be your own and should not just call a pre-existing function.)"
   ]
  },
  {
   "cell_type": "code",
   "execution_count": 132,
   "metadata": {
    "scrolled": true
   },
   "outputs": [
    {
     "name": "stdout",
     "output_type": "stream",
     "text": [
      "micro precision:  0.755464480874317\n",
      "micro recall:  0.755464480874317\n",
      "micro f1:  0.755464480874317\n",
      "macro precision 0.7484599594978351\n",
      "macro recall 0.7284203520960367\n",
      "macro f1: 0.7383041983122076\n"
     ]
    }
   ],
   "source": [
    "# Here use the train data as the training and testing set\n",
    "predict_train = predict(train_set, model)\n",
    "\n",
    "# find the confusion matrix\n",
    "confusion_matrix = pd.crosstab(train_set[0], np.array(predict_train))\n",
    "# the true positive values are on the diagonal of the confusion matrix\n",
    "tp = np.diag(confusion_matrix)\n",
    "\n",
    "# Micro-average precision, recall and f1-score\n",
    "# Both Micro precision and recall just equals to the accuracy\n",
    "micro = tp.sum() / confusion_matrix.sum(axis=0).sum()\n",
    "micro_f1 = 2 * (micro * micro) / (micro + micro)\n",
    "print('micro precision: ', micro)\n",
    "print('micro recall: ', micro)\n",
    "print('micro f1: ', micro_f1)\n",
    "\n",
    "# Macro-average precision, recall and f1-score\n",
    "precision = tp / confusion_matrix.sum(axis=0)\n",
    "precision_mean = precision.mean()\n",
    "recall = tp / confusion_matrix.sum(axis=1)\n",
    "recall_mean = recall.mean()\n",
    "macro_f1 = 2 * (precision_mean * recall_mean) / (precision_mean + recall_mean)\n",
    "\n",
    "print('macro precision', precision_mean)\n",
    "print('macro recall', recall_mean)\n",
    "print('macro f1:', macro_f1)"
   ]
  },
  {
   "cell_type": "markdown",
   "metadata": {},
   "source": [
    "I have computed the Micro-average and Macro-average precision/recall of the train dataset. Since the precision and recall of the micro-averaging are both divide by all values in the confusion matrix, they are the same which is 0.755, the micro f1 score is 0.755. On the other hand, macro-averaging precision is 0.748, recall if 0.728 and macro f1 score is 0.738. The Micro precision, recall and f1 are all higher than Macro-averaging. \n",
    "Whlist Macro-averaging has different precision and recall, Micro-averaging has the same value, as precision and recall are divided by TP + FP and TP + FN respectively, and they represent different thing as well. For example, we can know that this dataset has more FN than FP from Macro’s precision and recall, but Micro’s does not tell us anything about it. \n",
    "The Macro-averaging calculate precision and recall per class and take mean, which means we treated all classes the same. Whereas the Micro-averaging aggregate the contributions of all classes to compute the average precision and recall. Since there do not have extreme imbalance between classes, both Macro and Micro are suitable evaluation. "
   ]
  },
  {
   "cell_type": "markdown",
   "metadata": {},
   "source": [
    "### Q2\n",
    "The Gaussian naıve Bayes classifier assumes that numeric attributes come from a Gaussian distribution. Is this assumption always true for the numeric attributes in this dataset? Identify some cases where the Gaussian assumption is violated and describe any evidence (or lack thereof) that this has some effect on the classifier’s predictions."
   ]
  },
  {
   "cell_type": "markdown",
   "metadata": {},
   "source": [
    "Choose some datasets to see if the numeric attributes follow Gaussian distribution. From the confusion matrix, we can see that there are few FP values for class \"bridge\", \"childs\", \"downwarddog\" and \"tree\". Therefore, these classes might not satisfy with Gaussian distribution."
   ]
  },
  {
   "cell_type": "code",
   "execution_count": 133,
   "metadata": {},
   "outputs": [],
   "source": [
    "import matplotlib.pyplot as plt"
   ]
  },
  {
   "cell_type": "code",
   "execution_count": 134,
   "metadata": {},
   "outputs": [
    {
     "data": {
      "image/png": "[encoded data removed]",
      "text/plain": [
       "<Figure size 432x288 with 1 Axes>"
      ]
     },
     "metadata": {
      "needs_background": "light"
     },
     "output_type": "display_data"
    }
   ],
   "source": [
    "# choose a set of keypoints in class childs and draw its distribution\n",
    "dataset = train_set.loc[train_set[0]=='childs', 1]\n",
    "plt.hist(dataset, bins = 20, density = True, color = 'lightpink')\n",
    "plt.show()"
   ]
  },
  {
   "cell_type": "code",
   "execution_count": 135,
   "metadata": {},
   "outputs": [
    {
     "data": {
      "text/plain": [
       "[<matplotlib.lines.Line2D at 0x1e3f01e3b50>]"
      ]
     },
     "execution_count": 135,
     "metadata": {},
     "output_type": "execute_result"
    },
    {
     "data": {
      "image/png": "[encoded data removed]",
      "text/plain": [
       "<Figure size 432x288 with 1 Axes>"
      ]
     },
     "metadata": {
      "needs_background": "light"
     },
     "output_type": "display_data"
    }
   ],
   "source": [
    "# draw the linear polt of gaussian distribution for this dataset using the mean and std\n",
    "mean = model['childs']['mean'][1]\n",
    "std = model['childs']['std'][1]\n",
    "x = np.linspace(-75, 100)\n",
    "plt.plot(x, norm.pdf(x, mean, std), 'lightpink')"
   ]
  },
  {
   "cell_type": "markdown",
   "metadata": {},
   "source": [
    "Here I select keypoint 1 of childs class, plot all datapoints into a histogram(plot 1) and plot a graph of the standard gaussian distribution in that range(plot 2). It is obvious that this histogram was different from the gaussian distribution plot and maybe a bimodel distibution as it have two peaks and a gap in the middle, where gaussian distribution should have only one peak. That explains why the accuracy of \"childs\" was low. Since the majority of the this keypoint was around -50 or 50 but the prediction tells the classifier that this keypoint should be about 0. If the datapoint is at -75, it might give this point a low score and not recognise it belongs to this class since it is far away from the mean. It misleading the classifier and might result in wrong prediction."
   ]
  },
  {
   "cell_type": "code",
   "execution_count": 136,
   "metadata": {},
   "outputs": [
    {
     "data": {
      "image/png": "[encoded data removed]",
      "text/plain": [
       "<Figure size 432x288 with 1 Axes>"
      ]
     },
     "metadata": {
      "needs_background": "light"
     },
     "output_type": "display_data"
    }
   ],
   "source": [
    "# choose a set of keypoints in class downwarddog and draw its distribution\n",
    "dataset = train_set.loc[train_set[0]=='downwarddog', 6]\n",
    "plt.hist(dataset, bins = 20, density = True, color = 'plum')\n",
    "plt.show()"
   ]
  },
  {
   "cell_type": "code",
   "execution_count": 137,
   "metadata": {},
   "outputs": [
    {
     "data": {
      "text/plain": [
       "[<matplotlib.lines.Line2D at 0x1e3f15bb490>]"
      ]
     },
     "execution_count": 137,
     "metadata": {},
     "output_type": "execute_result"
    },
    {
     "data": {
      "image/png": "[encoded data removed]",
      "text/plain": [
       "<Figure size 432x288 with 1 Axes>"
      ]
     },
     "metadata": {
      "needs_background": "light"
     },
     "output_type": "display_data"
    }
   ],
   "source": [
    "# draw the linear polt of gaussian distribution for this dataset using the mean and std\n",
    "mean = model['downwarddog']['mean'][6]\n",
    "std = model['downwarddog']['std'][6]\n",
    "x = np.linspace(-175, 200)\n",
    "plt.plot(x, norm.pdf(x, mean, std), 'plum')"
   ]
  },
  {
   "cell_type": "markdown",
   "metadata": {},
   "source": [
    "In the second case, I chose the 6 keypoints of \"downwarddog\". I perform the same action on this dataset as the previous one. However, this time we can see that the shape of the histogram was skewed to the left a lot with a gap in the middle, which clearly does not match with its gaussian distribution graph. As this dataset was not even spread as the gaussian distribution, the standard deviation cannot describe the spread well, thus the mean is also not reliable as most of the datapoints clustered on the small end, but the mean is in the middle where no datapoints present.\n",
    "\n",
    "In addition, not only one single keypoint in these classes does not follow gaussian, I acutally found that most of the keypoints in these classes have similar issues. So we might need to choose other classifiers for these classes to obtain better results. "
   ]
  },
  {
   "cell_type": "markdown",
   "metadata": {},
   "source": [
    "### Q3\n",
    "Implement a kernel density estimate (KDE) naive Bayes classifier and compare its performance to the Gaussian naive Bayes classifier. Recall that KDE has kernel bandwidth as a free parameter -- you can choose an arbitrary value for this, but a value in the range 5-25 is recommended. Discuss any differences you observe between the Gaussian and KDE naive Bayes classifiers. (As with the Gaussian naive Bayes, this KDE naive Bayes implementation should be your own and should not just call a pre-existing function.)"
   ]
  },
  {
   "cell_type": "code",
   "execution_count": 138,
   "metadata": {},
   "outputs": [],
   "source": [
    "# function that read in and clean the data for it to be used for later training and testing\n",
    "def preprocess(filename):\n",
    "    # read in the file\n",
    "    data = pd.read_csv(filename, header = None)\n",
    "    \n",
    "    # delete the rows that with all freatures unkonwn \n",
    "    data = data[data.iloc[:, 1:].mean(axis=1)!=9999]\n",
    "    \n",
    "    #replace the unknown value with NaN\n",
    "    clean_data = data.replace(9999, np.nan)\n",
    "    \n",
    "    return clean_data"
   ]
  },
  {
   "cell_type": "code",
   "execution_count": 139,
   "metadata": {},
   "outputs": [],
   "source": [
    "# function that calculate prior and likelihoods of data and using them to build a KDE naive Bayes model\n",
    "def train_kde(train):\n",
    "    prior = train[0].value_counts() / len(train)\n",
    "    labels = list(prior.keys())        \n",
    "    model_kde = {}\n",
    "    \n",
    "    # store the prior and all the instances that have the same label in a dict\n",
    "    for label in labels:\n",
    "        model_kde[label] = {'prior':prior[label], 'x':[]}\n",
    "        group = train[train[0]==label]\n",
    "        for i in range(1, len(train.columns)):\n",
    "            model_kde[label]['x'] = group.transpose()\n",
    "            \n",
    "    return model_kde"
   ]
  },
  {
   "cell_type": "code",
   "execution_count": 140,
   "metadata": {},
   "outputs": [],
   "source": [
    "# function that calculate the pdf of the KDE naive Bayes model\n",
    "def kde(test_pt, train_values, fold):\n",
    "    \n",
    "    # set the pdf to zero if the test piont is nan\n",
    "    if (np.isnan(test_pt)):\n",
    "        pdf = 0.0\n",
    "        \n",
    "    # replace the nan values in the training set with mean and then calculate the density\n",
    "    else:\n",
    "        replaced_train = train_values.replace(np.nan, train_values.mean())\n",
    "        pdf = np.log(norm.pdf([test_pt - x for x in replaced_train], 0, fold).mean())\n",
    "        \n",
    "    return pdf"
   ]
  },
  {
   "cell_type": "code",
   "execution_count": 142,
   "metadata": {},
   "outputs": [],
   "source": [
    "# function that predicts classes for new items in a test dataset\n",
    "def predict_kde(test, model, fold):\n",
    "    predictions = []\n",
    "    labels = list(model.keys())\n",
    "    # get each instance in the test to calc their scores\n",
    "    for j,row in test.iterrows(): \n",
    "        instance = row[1:]\n",
    "        scores = []\n",
    "        for label in labels:\n",
    "            score = np.log(model[label]['prior'])\n",
    "            # calc the density of the feature of the current feature point\n",
    "            for i, x in enumerate(instance):\n",
    "                score += kde(x, model[label]['x'].iloc[1:,i], fold)\n",
    "            scores.append(score)\n",
    "        # add the label with the highest score\n",
    "        predictions.append(labels[np.argmax(scores)])\n",
    "    return predictions"
   ]
  },
  {
   "cell_type": "code",
   "execution_count": 143,
   "metadata": {},
   "outputs": [],
   "source": [
    "# function that evaluates the prediction performance by comparing the model’s class outputs to ground truth labels\n",
    "def evaluate_kde(test, model, fold):\n",
    "    true_num = 0\n",
    "    predict_labels = predict_kde(test, model, fold)\n",
    "    \n",
    "    # compare the predicted label with the true labels\n",
    "    for i, prediction in enumerate(predict_labels):\n",
    "        true_labels = test.iloc[i, 0]\n",
    "        if true_labels == predict_labels[i]:\n",
    "            true_num += 1\n",
    "    return true_num / len(predict_labels) "
   ]
  },
  {
   "cell_type": "code",
   "execution_count": 144,
   "metadata": {},
   "outputs": [
    {
     "name": "stderr",
     "output_type": "stream",
     "text": [
      "<ipython-input-140-7c70c28030b0>:11: RuntimeWarning: divide by zero encountered in log\n",
      "  pdf = np.log(norm.pdf([test_pt - x for x in replaced_train], 0, fold).mean())\n"
     ]
    },
    {
     "name": "stdout",
     "output_type": "stream",
     "text": [
      "0.3392857142857143\n",
      "0.37841530054644806\n"
     ]
    }
   ],
   "source": [
    "# preprocess the data set \n",
    "train_set = preprocess('train.csv')\n",
    "test = preprocess('test.csv')\n",
    "\n",
    "# set an kernel bandwidth as an arbitrary number(5)\n",
    "arbitrary_k = 5\n",
    "# train the kde model and then calc the accuracy\n",
    "model_kde = train_kde(train_set)\n",
    "accuracy_kde1 = evaluate_kde(test, model_kde, arbitrary_k)\n",
    "accuracy_kde2 = evaluate_kde(train_set, model_kde, arbitrary_k)\n",
    "print(accuracy_kde1)\n",
    "print(accuracy_kde2)"
   ]
  },
  {
   "cell_type": "markdown",
   "metadata": {},
   "source": [
    "By calculating the accuracy for the test and train set using KDE Navie Bayes with an arbitrary bandwidth 5, I get an an accuarcy of 0.339(test) and 0.378(train) which is much lower compare with when I am using the GNB where the accuracy is 0.75(test) and 0.755(train). This might because the data is actually normal distributed and hence the Gaussian naive Bayes classifier outperforms the KDE one. \n",
    "Factors that might affect our results could be different bandwidths that we arbitrarily chose. For example, if I chose the bandwidth to be 10, it will then get the accuracy of 0.393(test) and 0.452(train). Another factor could be the way that I deal with the missing values. To build the KDE naive Bayes classifier, I chose to replace the missing values with the mean values of the relative feature from the training set. For example, if for a certain yoga pose, a key point is suppose to be covered up(hence nan) but I alter it to be the mean value of the attribute. This could also be a potential cause of the low performance.\n"
   ]
  },
  {
   "cell_type": "markdown",
   "metadata": {},
   "source": [
    "### Q4\n",
    "Instead of using an arbitrary kernel bandwidth for the KDE naive Bayes classifier, use random hold-out or cross-validation to choose the kernel bandwidth. Discuss how this changes the model performance compared to using an arbitrary kernel bandwidth."
   ]
  },
  {
   "cell_type": "code",
   "execution_count": 145,
   "metadata": {},
   "outputs": [
    {
     "name": "stderr",
     "output_type": "stream",
     "text": [
      "<ipython-input-140-7c70c28030b0>:11: RuntimeWarning: divide by zero encountered in log\n",
      "  pdf = np.log(norm.pdf([test_pt - x for x in replaced_train], 0, fold).mean())\n"
     ]
    },
    {
     "data": {
      "text/plain": [
       "[0.3222905600596403,\n",
       " 0.28000740466493884,\n",
       " 0.3141156462585034,\n",
       " 0.3165165165165165,\n",
       " 0.3353103448275862]"
      ]
     },
     "execution_count": 145,
     "metadata": {},
     "output_type": "execute_result"
    }
   ],
   "source": [
    "# set the kernel bandwidth to list of 5-25 with interval 5\n",
    "k = [5, 10, 15, 20, 25]\n",
    "\n",
    "# shuffle the instance in the train set \n",
    "shuffle_train = train_set.sample(frac = 1)\n",
    "mean_result = []\n",
    "\n",
    "# split the data according to each bandwidthget and get the mean result \n",
    "for fold in k:\n",
    "    fold_result = []\n",
    "    train_parts = np.array_split(shuffle_train, fold)\n",
    "    # seperate the folds into test and training set\n",
    "    for i in range(fold):  \n",
    "        k_test = train_parts[i]\n",
    "        temp_list = train_parts[:]\n",
    "        temp_list.pop(i)\n",
    "        k_train = pd.concat(temp_list)\n",
    "\n",
    "        #train the selected parts\n",
    "        kf_model = train_kde(k_train)\n",
    "\n",
    "        # evaluate and then keep the result of each folds in a list\n",
    "        fold_result.append(evaluate_kde(k_test, kf_model, fold))\n",
    "\n",
    "    # get the mean result for this fold\n",
    "    mean_result.append(sum(fold_result)/len(fold_result))\n",
    "mean_result "
   ]
  },
  {
   "cell_type": "code",
   "execution_count": 146,
   "metadata": {},
   "outputs": [
    {
     "data": {
      "text/plain": [
       "25"
      ]
     },
     "execution_count": 146,
     "metadata": {},
     "output_type": "execute_result"
    }
   ],
   "source": [
    "# get the highest bandwidth\n",
    "best_k = k[np.argmax(mean_result)]\n",
    "best_k"
   ]
  },
  {
   "cell_type": "markdown",
   "metadata": {
    "collapsed": true
   },
   "source": [
    "Here I used cross-validation with the bandwidth to a list of 5-25 with interval 5. By observing the train data, I find that the instances are grouped by their class label. Hence, for better training result, I first shuffle the instances in the train data then split them into train and test set. Like as in Question 3, I chose to replace the missing value in train set as the mean value of the relative attribute. For each bandwidth, I calculate the accuracy of each of its split and hence calculate the mean accuracy of all its splits. Out of all the bandwidths, I then chose the one which have the highest accuracy which is 25 in this case. \n",
    "One thing to notice with is that since I shuffle the train data at the start, the accuracy might be different every time I run the program. As one example, I get the mean accuracy of each bandwidth as [0.3360544217687075, 0.3946686412439837, 0.414937641723356, 0.4204579579579579, 0.43586206896551716]. There is a clear growth in the accuracy when the bandwidth gets larger. This result might because larger bandwidth means more times of evaluations, hence might lead to an improvement in the performance of the model. We do not choose larger k since it could be time consuming. By fitting the train data, we can see that the result uses a bandwidth between 10 and 25 have a higher accuracy compare with the result from question 3 where we use 5 as the bandwidth have an accuracy of 0.378. The k-folds validation allows us to make prediction on all the data and hence reduce bias. Next time I could repeat the evaluation of the shuffled train data for several times to improve the reliability of the result as each shuffle could have different result.\n",
    "\n"
   ]
  }
 ],
 "metadata": {
  "kernelspec": {
   "display_name": "Python 3",
   "language": "python",
   "name": "python3"
  },
  "language_info": {
   "codemirror_mode": {
    "name": "ipython",
    "version": 3
   },
   "file_extension": ".py",
   "mimetype": "text/x-python",
   "name": "python",
   "nbconvert_exporter": "python",
   "pygments_lexer": "ipython3",
   "version": "3.8.5"
  }
 },
 "nbformat": 4,
 "nbformat_minor": 4
}
